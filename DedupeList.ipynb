{
 "cells": [
  {
   "cell_type": "code",
   "execution_count": null,
   "id": "powered-seeking",
   "metadata": {},
   "outputs": [],
   "source": [
    "pip install fuzzywuzzy python-Levenshtein\n"
   ]
  },
  {
   "cell_type": "code",
   "execution_count": null,
   "id": "distant-latest",
   "metadata": {},
   "outputs": [],
   "source": [
    "from fuzzywuzzy import process\n",
    "import pandas as pd\n",
    "import string\n",
    "from datetime import datetime\n",
    "import os\n",
    "import fileinput\n",
    "import glob"
   ]
  },
  {
   "cell_type": "code",
   "execution_count": null,
   "id": "raised-expert",
   "metadata": {},
   "outputs": [],
   "source": [
    "#Source File with names\n",
    "with open (\"sourceData.txt\", \"r\") as myfile:\n",
    "    sourceData=myfile.read().splitlines()\n",
    "len(sourceData)\n"
   ]
  },
  {
   "cell_type": "code",
   "execution_count": null,
   "id": "bound-bathroom",
   "metadata": {},
   "outputs": [],
   "source": [
    "# lets take a look at the data\n",
    "df = pd.DataFrame(sourceData, columns = ['Name']) \n",
    "print(\"Given Dataframe :\\n\", df)  \n",
    "  "
   ]
  },
  {
   "cell_type": "code",
   "execution_count": null,
   "id": "persistent-childhood",
   "metadata": {},
   "outputs": [],
   "source": [
    "def dedupelist(searchString, threshold=80):\n",
    "    \n",
    "    \n",
    "    # String to be searched in start of string  \n",
    "    search = searchString\n",
    "    print(f\"Processing search string {search}. Start Time: {datetime.now().strftime('%Y-%m-%d %H:%M:%S')}\")\n",
    "  \n",
    "    # filter dataset and convert to string list\n",
    "    bool_series = df[\"Name\"].str.startswith(search, na = False)\n",
    "    subset = df[bool_series][\"Name\"].astype(str).values.tolist()\n",
    "    print(f\"    Orginal Entries for {search} {str(len(subset))}\")\n",
    "\n",
    "    deduped = process.dedupe(subset,threshold)\n",
    "    print(f\"    Deduplicated Entries for {search} {len(deduped)}\")\n",
    "\n",
    "    with open(f'working/dedupped-{search}.txt', 'w') as filehandle:\n",
    "        filehandle.writelines(\"%s\\n\" % d for d in deduped)\n",
    "\n"
   ]
  },
  {
   "cell_type": "code",
   "execution_count": null,
   "id": "attached-project",
   "metadata": {},
   "outputs": [],
   "source": [
    "# Create our working directory, than dedupe one number and letter at a time\n",
    "if not os.path.exists('working'):\n",
    "    os.makedirs('working')\n",
    "\n",
    "for digit in string.digits:\n",
    "    dedupelist(digit)\n",
    "for letter in string.ascii_uppercase:\n",
    "    dedupelist(letter)\n"
   ]
  },
  {
   "cell_type": "code",
   "execution_count": null,
   "id": "skilled-fitness",
   "metadata": {},
   "outputs": [],
   "source": [
    "#Combine all the files\n",
    "\n",
    "file_list = glob.glob(\"working/*.txt\")\n",
    "\n",
    "with open('result.txt', 'w') as file:\n",
    "    input_lines = sorted(fileinput.input(file_list))\n",
    "    file.writelines(input_lines)"
   ]
  }
 ],
 "metadata": {
  "kernelspec": {
   "display_name": "conda_python3",
   "language": "python",
   "name": "conda_python3"
  },
  "language_info": {
   "codemirror_mode": {
    "name": "ipython",
    "version": 3
   },
   "file_extension": ".py",
   "mimetype": "text/x-python",
   "name": "python",
   "nbconvert_exporter": "python",
   "pygments_lexer": "ipython3",
   "version": "3.6.10"
  }
 },
 "nbformat": 4,
 "nbformat_minor": 5
}
